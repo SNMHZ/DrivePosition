{
 "cells": [
  {
   "cell_type": "code",
   "execution_count": 1,
   "id": "f7ba4222",
   "metadata": {},
   "outputs": [
    {
     "data": {
      "text/html": [
       "<div id=\"glowscript\" class=\"glowscript\"></div>"
      ],
      "text/plain": [
       "<IPython.core.display.HTML object>"
      ]
     },
     "metadata": {},
     "output_type": "display_data"
    },
    {
     "data": {
      "application/javascript": [
       "if (typeof Jupyter !== \"undefined\") { window.__context = { glowscript_container: $(\"#glowscript\").removeAttr(\"id\")};}else{ element.textContent = ' ';}"
      ],
      "text/plain": [
       "<IPython.core.display.Javascript object>"
      ]
     },
     "metadata": {},
     "output_type": "display_data"
    }
   ],
   "source": [
    "from vpython import *"
   ]
  },
  {
   "cell_type": "code",
   "execution_count": null,
   "id": "3c2a4f2a",
   "metadata": {},
   "outputs": [],
   "source": [
    "import socketio\n",
    "import eventlet"
   ]
  },
  {
   "cell_type": "code",
   "execution_count": null,
   "id": "c01c178a",
   "metadata": {},
   "outputs": [],
   "source": [
    "#create a Socket.IO server\n",
    "sio = socketio.Server()\n",
    "app = socketio.WSGIApp(sio)\n",
    "\n",
    "@sio.event\n",
    "def connect(sid, environ):\n",
    "    print('connect ', sid)\n",
    "\n",
    "@sio.event\n",
    "def disconnect(sid):\n",
    "    print('disconnect ', sid)\n",
    "\n",
    "# @sio.on('my message',namespace='/chat')\n",
    "# def another_event(sid,data):\n",
    "# print(str(data))\n",
    "# sio.emit('my message',{'data':'foobar'})\n",
    "\n",
    "@sio.on('my message')\n",
    "def test(sid,json):\n",
    "    #print(sid)\n",
    "    print(sid, json)"
   ]
  },
  {
   "cell_type": "code",
   "execution_count": 2,
   "id": "bbc7d9a4",
   "metadata": {
    "scrolled": true
   },
   "outputs": [],
   "source": [
    "class CarModel:\n",
    "    def __init__(self, a_d, b_d, c, d_left, d_right, e, f, g, name:str):\n",
    "        self.a_d = a_d          #페달 ~ 시트를 맨앞으로 당겼을때의 거리\n",
    "        self.b_d = b_d          #차량내부 바닥 ~ 시트를 맨아래로 내렸을때의 거리\n",
    "        self.c = c              #사이드미러 중앙 ~ 시트를 맨앞으로 당겼을때 눈위치(사람머리두께를 약 17 ~ 18cm 라고 가정, 차량 옆면과 수평이 되는 거리측정.)\n",
    "        self.d_left = d_left    #좌측 사이드미러 중앙 ~ 시트 중앙까지의 거리 (차량 옆면과 수직되는 거리측정.)\n",
    "        self.d_right = d_right  #우측 사이드미러 중앙 ~ 시트 중앙까지의 거리 (차량 옆면과 수직되는 거리측정.)\n",
    "        self.e = e              #차량내부 바닥 ~ 대시보드\n",
    "        self.f = f              #차량내부 바닥 ~ 사이드미러 중앙까지의 높이\n",
    "        self.g = g              #대시 ~ 천장\n",
    "        self.name:str = name    #차량 모델명\n",
    "\n",
    "class PersonalConst:\n",
    "    def __init__(self, hip_to_eye, default_side):\n",
    "        self.hip_to_eye = hip_to_eye        #엉덩이 ~ 눈\n",
    "        self.default_side = default_side    #사용자 설정 사이드미러 각 활용 여부\n",
    "\n",
    "class Drivepos:\n",
    "    def __init__(self, a_u, b_u, lr_angle_left, lr_angle_right, ud_angle, model:CarModel):\n",
    "        self.a_u = a_u                          #사용자가 이동시킨 x값\n",
    "        self.b_u = b_u                          #사용자가 이동시킨 y값\n",
    "        self.lr_angle_left = lr_angle_left      #사용자가 설정시킨 좌우 사이드미러 angle (차량 옆면 기준)\n",
    "        self.lr_angle_right = lr_angle_right    #사용자가 설정시킨 좌우 사이드미러 angle (차량 옆면 기준)\n",
    "        self.ud_angle = ud_angle                #사용자가 설정시킨 상하 사이드미러 angle (미러의 기울기)\n",
    "        self.model:CarModel = model             #CarModel 객체\n",
    "    \n",
    "    def __iter__(self):\n",
    "        for key in self.__dict__:\n",
    "             yield (key, self.__dict__[key]) if key != 'model' else (key, self.__dict__[key].__dict__)"
   ]
  },
  {
   "cell_type": "code",
   "execution_count": 3,
   "id": "466db2e6",
   "metadata": {},
   "outputs": [],
   "source": [
    "def Simulation(current:Drivepos, change, driver_height):\n",
    "    thickness = 10 \n",
    "    side_mirror_2_door = 10\n",
    "    car_bottom_thickness = 10\n",
    "    car_ceil_thickness = 10\n",
    "    shortest_seat_2_padal = current.model.a_d\n",
    "    lowest_seat_2_car_bottom = current.model.b_d\n",
    "    right_side_mirror_2_center_of_seat = current.model.d_right\n",
    "    left_side_mirro_2_center_of_seat = current.model.d_left\n",
    "    dash_2_car_bottom = current.model.e\n",
    "    inner_car_height = ( current.model.e + current.model.g )\n",
    "    \n",
    "    car_width =  right_side_mirror_2_center_of_seat + left_side_mirro_2_center_of_seat - (2 * side_mirror_2_door)\n",
    "    car_length = 2 * car_width\n",
    "    car_seat_size = (car_width / 2)/2\n",
    "    car_seat_height = thickness\n",
    "    car_seat_back_thickness = thickness\n",
    "    car_seat_back_size = car_seat_size\n",
    "    padal_length = 20\n",
    "    padal_height = thickness\n",
    "    padal_width = (car_width / 2)\n",
    "    dash_length = 2 * padal_length \n",
    "    dash_width = (car_width / 2)\n",
    "    dash_height = thickness\n",
    "    door_thickness = thickness\n",
    "\n",
    "    side_mirror_length = 20\n",
    "    side_mirror_height = 10\n",
    "    side_mirror_thickness = thickness\n",
    "    car_bottom_pos_x = 0\n",
    "    car_bottom_pos_y = 0\n",
    "    car_bottom_pos_z = 0\n",
    "    \n",
    "    car_seat_pos_x = car_bottom_pos_x + ( (car_length / 2) - padal_length - shortest_seat_2_padal - (car_seat_size / 2) ) + current.a_u\n",
    "    car_seat_pos_y = car_bottom_pos_y + lowest_seat_2_car_bottom + (car_bottom_thickness / 2) - (car_seat_height / 2) + current.b_u\n",
    "    car_seat_pos_z = car_bottom_pos_z -  ( car_width / 4 )\n",
    "    car_seat_back_pos_x = car_seat_pos_x - (car_seat_size / 2) + (car_seat_back_thickness / 2)\n",
    "    car_seat_back_pos_y = car_seat_pos_y + (car_seat_height / 2) + (car_seat_back_size / 2)\n",
    "    car_seat_back_pos_z = car_seat_pos_z \n",
    "    car_ceil_pos_x = car_bottom_pos_x\n",
    "    car_ceil_pos_y = car_bottom_pos_y +  inner_car_height + (car_bottom_thickness / 2) + (car_ceil_thickness / 2) \n",
    "    car_ceil_pos_z = car_bottom_pos_z\n",
    "    eye_position_x = car_bottom_pos_x + (car_length/2) - padal_length - current.model.c\n",
    "    eye_position_y = car_seat_pos_y + driver_height\n",
    "    eye_position_z = car_seat_pos_z \n",
    "    padal_postion_x = car_bottom_pos_x + ( (car_length / 2) - (padal_length / 2) )\n",
    "    padal_postion_y = car_bottom_pos_y +  (padal_height / 2) + (car_bottom_thickness / 2)\n",
    "    padal_postion_z = car_bottom_pos_z -  ( car_width / 4 )\n",
    "    dash_position_x = car_bottom_pos_x + ( (car_length / 2) - (dash_length / 2) )\n",
    "    dash_position_y = car_bottom_pos_y + (car_bottom_thickness / 2) + dash_2_car_bottom + (dash_height / 2)\n",
    "    dash_position_z = car_bottom_pos_z -  ( car_width / 4 )\n",
    "    left_door_position_x = car_bottom_pos_x\n",
    "    left_door_position_y = car_bottom_pos_y + (inner_car_height / 2)\n",
    "    left_door_position_z = car_bottom_pos_z - ( ( car_width / 2 ) + ( door_thickness / 2 ) )\n",
    "    right_door_position_x = car_bottom_pos_x\n",
    "    right_door_position_y = car_bottom_pos_y + (inner_car_height / 2)\n",
    "    right_door_position_z = car_bottom_pos_z + ( ( car_width / 2 ) + ( door_thickness / 2 ) )\n",
    "    left_side_mirror_position_x = dash_position_x \n",
    "    left_side_mirror_position_y = car_bottom_pos_y + (car_bottom_thickness / 2) + (side_mirror_height / 2) + current.model.f\n",
    "    left_side_mirror_position_z = dash_position_z - ( (car_width / 4) + door_thickness + side_mirror_2_door + ( side_mirror_thickness / 2 ) )\n",
    "    right_side_mirror_position_x = dash_position_x\n",
    "    right_side_mirror_position_y = car_bottom_pos_y + (car_bottom_thickness / 2) + (side_mirror_height / 2) + current.model.f\n",
    "    right_side_mirror_position_z = dash_position_z + ( 3*(car_width / 4) + door_thickness + side_mirror_2_door + ( side_mirror_thickness / 2 ) )\n",
    "    \n",
    "    car_bottom = box(pos = vec(car_bottom_pos_x, car_bottom_pos_y, car_bottom_pos_z), length = car_length, height=car_bottom_thickness, width = car_width )\n",
    "    car_ceil = box(pos = vec(car_ceil_pos_x, car_ceil_pos_y, car_ceil_pos_z), length = car_length, height = car_ceil_thickness, width = car_width, opacity = 0.5 )\n",
    "    car_seat = box(pos = vec(car_seat_pos_x, car_seat_pos_y, car_seat_pos_z), length = car_seat_size, height = car_seat_height , width = car_seat_size )\n",
    "    car_seat_back = box(pos = vec(car_seat_back_pos_x, car_seat_back_pos_y, car_seat_back_pos_z), length = car_seat_back_thickness , height=car_seat_back_size , width= car_seat_back_size)\n",
    "    eye = box(pos = vec(eye_position_x, eye_position_y, eye_position_z), length = 5, height = 5, width = 5, color = color.red)\n",
    "    padal = box(pos= vec(padal_postion_x, padal_postion_y, padal_postion_z), length = padal_length, height = padal_height, width = padal_width )\n",
    "    dash = box(pos= vec(dash_position_x, dash_position_y, dash_position_z), length = dash_length, height = dash_height, width = dash_width  )\n",
    "    left_door = box(pos = vec(left_door_position_x, left_door_position_y, left_door_position_z), length = car_length, height = inner_car_height ,width = door_thickness, opacity = 0.5)\n",
    "    right_door = box(pos = vec(right_door_position_x, right_door_position_y, right_door_position_z), length = car_length, height = inner_car_height ,width = door_thickness, opacity = 0.5)\n",
    "    left_side_mirror = box(pos = vec(left_side_mirror_position_x, left_side_mirror_position_y, left_side_mirror_position_z), length = side_mirror_length, height = side_mirror_height  , width =side_mirror_thickness)\n",
    "    right_side_mirror = box(pos = vec(right_side_mirror_position_x, right_side_mirror_position_y, right_side_mirror_position_z), length = side_mirror_length, height = side_mirror_height  , width =side_mirror_thickness)\n",
    "    left_side_mirror.rotate(angle = current.lr_angle_left , axis = vec(0,1,0))\n",
    "    left_side_mirror.rotate(angle = current.ud_angle , axis = vec(1,0,0))\n",
    "    right_side_mirror.rotate(angle = current.lr_angle_right, axis = vec(0,1,0))\n",
    "    right_side_mirror.rotate(angle = current.ud_angle, axis = vec(1,0,0))\n",
    "    \n",
    "    v = vec(0,0,0)\n",
    "    dv = 0.5 # 0.2\n",
    "    dv2 = 0.05\n",
    "    dt = 1 # 0.1\n",
    "    back_and_forth_sum = current.a_u\n",
    "    up_and_down_sum = current.b_u\n",
    "    theta1_sum = current.lr_angle_left\n",
    "    theta2_sum = current.lr_angle_right\n",
    "    theta3_sum = current.ud_angle\n",
    "    theta4_sum = current.ud_angle"
   ]
  },
  {
   "cell_type": "code",
   "execution_count": 4,
   "id": "6f28c01e",
   "metadata": {},
   "outputs": [
    {
     "data": {
      "application/javascript": [
       "if (typeof Jupyter !== \"undefined\") {require.undef(\"nbextensions/vpython_libraries/glow.min\");}else{element.textContent = ' ';}"
      ],
      "text/plain": [
       "<IPython.core.display.Javascript object>"
      ]
     },
     "metadata": {},
     "output_type": "display_data"
    },
    {
     "data": {
      "application/javascript": [
       "if (typeof Jupyter !== \"undefined\") {require.undef(\"nbextensions/vpython_libraries/glowcomm\");}else{element.textContent = ' ';}"
      ],
      "text/plain": [
       "<IPython.core.display.Javascript object>"
      ]
     },
     "metadata": {},
     "output_type": "display_data"
    },
    {
     "data": {
      "application/javascript": [
       "if (typeof Jupyter !== \"undefined\") {require.undef(\"nbextensions/vpython_libraries/jquery-ui.custom.min\");}else{element.textContent = ' ';}"
      ],
      "text/plain": [
       "<IPython.core.display.Javascript object>"
      ]
     },
     "metadata": {},
     "output_type": "display_data"
    },
    {
     "data": {
      "application/javascript": [
       "if (typeof Jupyter !== \"undefined\") {require([\"nbextensions/vpython_libraries/glow.min\"], function(){console.log(\"GLOW LOADED\");});}else{element.textContent = ' ';}"
      ],
      "text/plain": [
       "<IPython.core.display.Javascript object>"
      ]
     },
     "metadata": {},
     "output_type": "display_data"
    },
    {
     "data": {
      "application/javascript": [
       "if (typeof Jupyter !== \"undefined\") {require([\"nbextensions/vpython_libraries/glowcomm\"], function(){console.log(\"GLOWCOMM LOADED\");});}else{element.textContent = ' ';}"
      ],
      "text/plain": [
       "<IPython.core.display.Javascript object>"
      ]
     },
     "metadata": {},
     "output_type": "display_data"
    },
    {
     "data": {
      "application/javascript": [
       "if (typeof Jupyter !== \"undefined\") {require([\"nbextensions/vpython_libraries/jquery-ui.custom.min\"], function(){console.log(\"JQUERY LOADED\");});}else{element.textContent = ' ';}"
      ],
      "text/plain": [
       "<IPython.core.display.Javascript object>"
      ]
     },
     "metadata": {},
     "output_type": "display_data"
    },
    {
     "name": "stderr",
     "output_type": "stream",
     "text": [
      "Task exception was never retrieved\n",
      "future: <Task finished name='Task-5' coro=<wsperiodic() done, defined at d:\\Anaconda3\\envs\\drivepos\\lib\\site-packages\\vpython\\with_notebook.py:161> exception=TypeError(\"float() argument must be a string or a number, not 'NoneType'\")>\n",
      "Traceback (most recent call last):\n",
      "  File \"d:\\Anaconda3\\envs\\drivepos\\lib\\site-packages\\vpython\\with_notebook.py\", line 171, in wsperiodic\n",
      "    baseObj.glow.handle_msg(msg)\n",
      "  File \"d:\\Anaconda3\\envs\\drivepos\\lib\\site-packages\\vpython\\vpython.py\", line 393, in handle_msg\n",
      "    cvs.handle_event(evt)\n",
      "  File \"d:\\Anaconda3\\envs\\drivepos\\lib\\site-packages\\vpython\\vpython.py\", line 3126, in handle_event\n",
      "    evt['pos'] = list_to_vec(pos)\n",
      "  File \"d:\\Anaconda3\\envs\\drivepos\\lib\\site-packages\\vpython\\vpython.py\", line 177, in list_to_vec\n",
      "    return vector(L[0], L[1], L[2])\n",
      "  File \"d:\\Anaconda3\\envs\\drivepos\\lib\\site-packages\\vpython\\vector.py\", line 20, in __init__\n",
      "    self._x = float(args[0]) # make sure it's a float; could be numpy.float64\n",
      "TypeError: float() argument must be a string or a number, not 'NoneType'\n"
     ]
    }
   ],
   "source": [
    "Avante = CarModel(34, 30, 74, 55, 125, 77, 77, 38,\"Avante\")\n",
    "current_Model_setting = Drivepos(1, 2, 0, 0, 0, Avante)\n",
    "hip_to_eye = 170*0.44\n",
    "Simulation(current_Model_setting, 0, hip_to_eye)"
   ]
  },
  {
   "cell_type": "code",
   "execution_count": null,
   "id": "0a7a9465",
   "metadata": {},
   "outputs": [],
   "source": [
    "#시트\n",
    "if 'left'  in k:\n",
    "    car_seat.pos.x -= dv\n",
    "    car_seat_back.pos.x -=dv\n",
    "    eye.pos.x -= dv\n",
    "    back_and_forth_sum += dv\n",
    "    print(back_and_forth_sum)\n",
    "if 'right' in k: \n",
    "    car_seat.pos.x += dv\n",
    "    car_seat_back.pos.x +=dv\n",
    "    eye.pos.x += dv\n",
    "    back_and_forth_sum  -= dv\n",
    "    print(back_and_forth_sum)\n",
    "if 'down' in k: \n",
    "    car_seat.pos.y -= dv\n",
    "    car_seat_back.pos.y -=dv\n",
    "    eye.pos.y -= dv\n",
    "    up_and_down_sum -= dv\n",
    "    print(up_and_down_sum)\n",
    "if 'up' in k: \n",
    "    car_seat.pos.y += dv\n",
    "    car_seat_back.pos.y +=dv\n",
    "    eye.pos.y += dv\n",
    "    up_and_down_sum += dv\n",
    "    print(up_and_down_sum)"
   ]
  },
  {
   "cell_type": "code",
   "execution_count": null,
   "id": "8c49f29b",
   "metadata": {},
   "outputs": [],
   "source": [
    "eventlet.wsgi.server(eventlet.listen(('0.0.0.0',5000)),app)"
   ]
  }
 ],
 "metadata": {
  "kernelspec": {
   "display_name": "drivepos",
   "language": "python",
   "name": "drivepos"
  },
  "language_info": {
   "codemirror_mode": {
    "name": "ipython",
    "version": 3
   },
   "file_extension": ".py",
   "mimetype": "text/x-python",
   "name": "python",
   "nbconvert_exporter": "python",
   "pygments_lexer": "ipython3",
   "version": "3.9.5"
  }
 },
 "nbformat": 4,
 "nbformat_minor": 5
}
